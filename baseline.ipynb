{
 "cells": [
  {
   "cell_type": "code",
   "execution_count": 38,
   "metadata": {},
   "outputs": [],
   "source": [
    "from model import SentimentBERT\n",
    "import pandas as pd\n",
    "import zipfile\n",
    "import os\n",
    "import torch"
   ]
  },
  {
   "cell_type": "code",
   "execution_count": 2,
   "metadata": {},
   "outputs": [
    {
     "name": "stdout",
     "output_type": "stream",
     "text": [
      "Файлы из \"model.zip\" были успешно извлечены в \"./model\".\n"
     ]
    }
   ],
   "source": [
    "zip_file_path = 'model.zip'  \n",
    "output_directory = './model'   \n",
    "\n",
    "\n",
    "\n",
    "def unzip_file(zip_path, extract_to):\n",
    "    with zipfile.ZipFile(zip_path, 'r') as zipf:\n",
    "        zipf.extractall(extract_to)\n",
    "        print(f'Файлы из \"{zip_path}\" были успешно извлечены в \"{extract_to}\".')\n",
    "\n",
    "os.makedirs(output_directory, exist_ok=True)\n",
    "unzip_file(zip_file_path, output_directory)\n",
    "\n",
    "model = SentimentBERT(output_directory)"
   ]
  },
  {
   "cell_type": "code",
   "execution_count": 3,
   "metadata": {},
   "outputs": [
    {
     "data": {
      "text/plain": [
       "{'class': 'negative', 'probabilities': tensor([[0.0707, 0.0090, 0.9203]])}"
      ]
     },
     "execution_count": 3,
     "metadata": {},
     "output_type": "execute_result"
    }
   ],
   "source": [
    "text = '''я тебя ненавижу'''\n",
    "model(text)"
   ]
  },
  {
   "cell_type": "code",
   "execution_count": 16,
   "metadata": {},
   "outputs": [
    {
     "data": {
      "text/plain": [
       "{'class': 'negative', 'probabilities': tensor([[0.2157, 0.0133, 0.7709]])}"
      ]
     },
     "execution_count": 16,
     "metadata": {},
     "output_type": "execute_result"
    }
   ],
   "source": [
    "text = '''я тебя ненавижу (почти)'''\n",
    "model(text)"
   ]
  },
  {
   "cell_type": "code",
   "execution_count": 17,
   "metadata": {},
   "outputs": [
    {
     "data": {
      "text/plain": [
       "{'class': 'negative', 'probabilities': tensor([[0.3646, 0.0142, 0.6212]])}"
      ]
     },
     "execution_count": 17,
     "metadata": {},
     "output_type": "execute_result"
    }
   ],
   "source": [
    "text = '''я возможно тебя ненавижу (почти)'''\n",
    "model(text)"
   ]
  },
  {
   "cell_type": "code",
   "execution_count": 19,
   "metadata": {},
   "outputs": [
    {
     "data": {
      "text/plain": [
       "{'class': 'neutral', 'probabilities': tensor([[0.5768, 0.1619, 0.2612]])}"
      ]
     },
     "execution_count": 19,
     "metadata": {},
     "output_type": "execute_result"
    }
   ],
   "source": [
    "text = '''я возможно тебя ненавижу (почти), но все равно ты хороший'''\n",
    "model(text)"
   ]
  },
  {
   "cell_type": "code",
   "execution_count": 20,
   "metadata": {},
   "outputs": [
    {
     "data": {
      "text/plain": [
       "{'class': 'neutral', 'probabilities': tensor([[0.8931, 0.0916, 0.0153]])}"
      ]
     },
     "execution_count": 20,
     "metadata": {},
     "output_type": "execute_result"
    }
   ],
   "source": [
    "text = '''Путин победил на выборах президента'''\n",
    "model(text)"
   ]
  },
  {
   "cell_type": "code",
   "execution_count": 30,
   "metadata": {},
   "outputs": [
    {
     "data": {
      "text/plain": [
       "{'class': 'positive', 'probabilities': tensor([[0.0467, 0.9508, 0.0025]])}"
      ]
     },
     "execution_count": 30,
     "metadata": {},
     "output_type": "execute_result"
    }
   ],
   "source": [
    "text = '''Ура! Путин победил на выборах президента'''\n",
    "model(text)"
   ]
  },
  {
   "cell_type": "code",
   "execution_count": 5,
   "metadata": {},
   "outputs": [
    {
     "data": {
      "text/html": [
       "<div>\n",
       "<style scoped>\n",
       "    .dataframe tbody tr th:only-of-type {\n",
       "        vertical-align: middle;\n",
       "    }\n",
       "\n",
       "    .dataframe tbody tr th {\n",
       "        vertical-align: top;\n",
       "    }\n",
       "\n",
       "    .dataframe thead th {\n",
       "        text-align: right;\n",
       "    }\n",
       "</style>\n",
       "<table border=\"1\" class=\"dataframe\">\n",
       "  <thead>\n",
       "    <tr style=\"text-align: right;\">\n",
       "      <th></th>\n",
       "      <th>Unnamed: 0</th>\n",
       "      <th>title</th>\n",
       "      <th>description</th>\n",
       "      <th>link</th>\n",
       "      <th>published</th>\n",
       "    </tr>\n",
       "  </thead>\n",
       "  <tbody>\n",
       "    <tr>\n",
       "      <th>0</th>\n",
       "      <td>0</td>\n",
       "      <td>Австралийский теннисист резко высказался о мат...</td>\n",
       "      <td>NaN</td>\n",
       "      <td>https://lenta.ru/news/2024/12/15/avstraliyskiy...</td>\n",
       "      <td>Sun, 15 Dec 2024 23:55:28 +0300</td>\n",
       "    </tr>\n",
       "    <tr>\n",
       "      <th>1</th>\n",
       "      <td>1</td>\n",
       "      <td>В Турции заявили о нежелании тратить десятки л...</td>\n",
       "      <td>NaN</td>\n",
       "      <td>https://lenta.ru/news/2024/12/15/v-turtsii-zay...</td>\n",
       "      <td>Sun, 15 Dec 2024 23:41:00 +0300</td>\n",
       "    </tr>\n",
       "    <tr>\n",
       "      <th>2</th>\n",
       "      <td>2</td>\n",
       "      <td>В России выбрали культурную столицу 2026 года</td>\n",
       "      <td>NaN</td>\n",
       "      <td>https://lenta.ru/news/2024/12/15/v-rossii-vybr...</td>\n",
       "      <td>Sun, 15 Dec 2024 23:36:00 +0300</td>\n",
       "    </tr>\n",
       "    <tr>\n",
       "      <th>3</th>\n",
       "      <td>3</td>\n",
       "      <td>Советник рассказал о контактах Трампа с против...</td>\n",
       "      <td>NaN</td>\n",
       "      <td>https://lenta.ru/news/2024/12/15/sovetnik-rass...</td>\n",
       "      <td>Sun, 15 Dec 2024 23:34:00 +0300</td>\n",
       "    </tr>\n",
       "    <tr>\n",
       "      <th>4</th>\n",
       "      <td>4</td>\n",
       "      <td>В Польше раскрыли подробности санкций ЕС за «г...</td>\n",
       "      <td>NaN</td>\n",
       "      <td>https://lenta.ru/news/2024/12/15/v-polshe-soob...</td>\n",
       "      <td>Sun, 15 Dec 2024 23:24:00 +0300</td>\n",
       "    </tr>\n",
       "  </tbody>\n",
       "</table>\n",
       "</div>"
      ],
      "text/plain": [
       "   Unnamed: 0                                              title description  \\\n",
       "0           0  Австралийский теннисист резко высказался о мат...         NaN   \n",
       "1           1  В Турции заявили о нежелании тратить десятки л...         NaN   \n",
       "2           2      В России выбрали культурную столицу 2026 года         NaN   \n",
       "3           3  Советник рассказал о контактах Трампа с против...         NaN   \n",
       "4           4  В Польше раскрыли подробности санкций ЕС за «г...         NaN   \n",
       "\n",
       "                                                link  \\\n",
       "0  https://lenta.ru/news/2024/12/15/avstraliyskiy...   \n",
       "1  https://lenta.ru/news/2024/12/15/v-turtsii-zay...   \n",
       "2  https://lenta.ru/news/2024/12/15/v-rossii-vybr...   \n",
       "3  https://lenta.ru/news/2024/12/15/sovetnik-rass...   \n",
       "4  https://lenta.ru/news/2024/12/15/v-polshe-soob...   \n",
       "\n",
       "                         published  \n",
       "0  Sun, 15 Dec 2024 23:55:28 +0300  \n",
       "1  Sun, 15 Dec 2024 23:41:00 +0300  \n",
       "2  Sun, 15 Dec 2024 23:36:00 +0300  \n",
       "3  Sun, 15 Dec 2024 23:34:00 +0300  \n",
       "4  Sun, 15 Dec 2024 23:24:00 +0300  "
      ]
     },
     "execution_count": 5,
     "metadata": {},
     "output_type": "execute_result"
    }
   ],
   "source": [
    "news = pd.read_csv(\"./data/outp.csv\")\n",
    "news.head()"
   ]
  },
  {
   "cell_type": "code",
   "execution_count": 52,
   "metadata": {},
   "outputs": [],
   "source": [
    "processed_news = []\n",
    "for _, row in news.iterrows():\n",
    "    lb = model(row[\"title\"])\n",
    "    processed_news.append({\"title\": row[\"title\"], \n",
    "                           \"link\": row[\"link\"], \n",
    "                           \"class\": lb[\"class\"],\n",
    "                           \"logit\": [round(float(i), 2) for i in lb[\"probabilities\"][0]]})"
   ]
  },
  {
   "cell_type": "code",
   "execution_count": 56,
   "metadata": {},
   "outputs": [
    {
     "name": "stdout",
     "output_type": "stream",
     "text": [
      "HTML файл успешно сгенерирован!\n"
     ]
    }
   ],
   "source": [
    "from jinja2 import Environment, FileSystemLoader\n",
    "env = Environment(loader=FileSystemLoader('templates'))\n",
    "template = env.get_template('news_template.html')\n",
    "\n",
    "# Генерация HTML\n",
    "html_output = template.render(news=processed_news)\n",
    "\n",
    "# Сохранение HTML в файл\n",
    "with open('news.html', 'w', encoding='utf-8') as f:\n",
    "    f.write(html_output)\n",
    "\n",
    "print(\"HTML файл успешно сгенерирован!\")"
   ]
  },
  {
   "cell_type": "code",
   "execution_count": null,
   "metadata": {},
   "outputs": [],
   "source": []
  }
 ],
 "metadata": {
  "kernelspec": {
   "display_name": "Python 3",
   "language": "python",
   "name": "python3"
  },
  "language_info": {
   "codemirror_mode": {
    "name": "ipython",
    "version": 3
   },
   "file_extension": ".py",
   "mimetype": "text/x-python",
   "name": "python",
   "nbconvert_exporter": "python",
   "pygments_lexer": "ipython3",
   "version": "3.10.12"
  }
 },
 "nbformat": 4,
 "nbformat_minor": 2
}
