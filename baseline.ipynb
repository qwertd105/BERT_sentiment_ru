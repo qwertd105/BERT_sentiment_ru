{
 "cells": [
  {
   "cell_type": "code",
   "execution_count": 28,
   "metadata": {},
   "outputs": [],
   "source": [
    "from transformers import AutoTokenizer, AutoModelForSequenceClassification\n",
    "import torch\n",
    "import torch.nn as nn\n",
    "import zipfile\n",
    "import os"
   ]
  },
  {
   "cell_type": "code",
   "execution_count": 29,
   "metadata": {},
   "outputs": [],
   "source": [
    "class SentimentBERT(nn.Module):\n",
    "\n",
    "    class_interpretation = {\n",
    "        0: \"neutral\",\n",
    "        1: \"positive\",\n",
    "        2: \"negative\"\n",
    "    }\n",
    "\n",
    "    def __init__(self, load_dir):\n",
    "        super(SentimentBERT, self).__init__()\n",
    "        self.bert = AutoModelForSequenceClassification.from_pretrained(load_dir)\n",
    "        self.tokenizer = AutoTokenizer.from_pretrained(load_dir)\n",
    "\n",
    "    def forward(self, text):\n",
    "        inputs = self.tokenizer(text, return_tensors=\"pt\")\n",
    "        with torch.no_grad():\n",
    "            logits = self.bert(**inputs).logits\n",
    "        probabilities = torch.softmax(logits, dim=-1)\n",
    "\n",
    "        result = {\"class\": SentimentBERT.class_interpretation[probabilities.argmax().item()],\n",
    "                   \"probabilities\": probabilities }\n",
    "        \n",
    "        return result"
   ]
  },
  {
   "cell_type": "code",
   "execution_count": 30,
   "metadata": {},
   "outputs": [
    {
     "name": "stdout",
     "output_type": "stream",
     "text": [
      "Файлы из \"model.zip\" были успешно извлечены в \"./model\".\n"
     ]
    }
   ],
   "source": [
    "zip_file_path = 'model.zip'  \n",
    "output_directory = './model'   \n",
    "\n",
    "\n",
    "\n",
    "def unzip_file(zip_path, extract_to):\n",
    "    with zipfile.ZipFile(zip_path, 'r') as zipf:\n",
    "        zipf.extractall(extract_to)\n",
    "        print(f'Файлы из \"{zip_path}\" были успешно извлечены в \"{extract_to}\".')\n",
    "\n",
    "os.makedirs(output_directory, exist_ok=True)\n",
    "unzip_file(zip_file_path, output_directory)\n",
    "\n",
    "model = SentimentBERT(output_directory)"
   ]
  },
  {
   "cell_type": "code",
   "execution_count": 31,
   "metadata": {},
   "outputs": [
    {
     "data": {
      "text/plain": [
       "{'class': 'neutral', 'probabilities': tensor([[0.9277, 0.0261, 0.0463]])}"
      ]
     },
     "execution_count": 31,
     "metadata": {},
     "output_type": "execute_result"
    }
   ],
   "source": [
    "text = '''Может кто-то знает, подлесных требует ото всех членов в команде сетевое взаимодействие? Или достаточно чтобы в самом проекте было сетевое взаимодействие?'''\n",
    "model(text)"
   ]
  },
  {
   "cell_type": "code",
   "execution_count": 15,
   "metadata": {},
   "outputs": [
    {
     "data": {
      "text/plain": [
       "{'class': 'negative', 'probabilities': tensor([[0.0707, 0.0090, 0.9203]])}"
      ]
     },
     "execution_count": 15,
     "metadata": {},
     "output_type": "execute_result"
    }
   ],
   "source": [
    "text = '''я тебя ненавижу'''\n",
    "model(text)"
   ]
  },
  {
   "cell_type": "code",
   "execution_count": 16,
   "metadata": {},
   "outputs": [
    {
     "data": {
      "text/plain": [
       "{'class': 'negative', 'probabilities': tensor([[0.2157, 0.0133, 0.7709]])}"
      ]
     },
     "execution_count": 16,
     "metadata": {},
     "output_type": "execute_result"
    }
   ],
   "source": [
    "text = '''я тебя ненавижу (почти)'''\n",
    "model(text)"
   ]
  },
  {
   "cell_type": "code",
   "execution_count": 17,
   "metadata": {},
   "outputs": [
    {
     "data": {
      "text/plain": [
       "{'class': 'negative', 'probabilities': tensor([[0.3646, 0.0142, 0.6212]])}"
      ]
     },
     "execution_count": 17,
     "metadata": {},
     "output_type": "execute_result"
    }
   ],
   "source": [
    "text = '''я возможно тебя ненавижу (почти)'''\n",
    "model(text)"
   ]
  },
  {
   "cell_type": "code",
   "execution_count": 19,
   "metadata": {},
   "outputs": [
    {
     "data": {
      "text/plain": [
       "{'class': 'neutral', 'probabilities': tensor([[0.5768, 0.1619, 0.2612]])}"
      ]
     },
     "execution_count": 19,
     "metadata": {},
     "output_type": "execute_result"
    }
   ],
   "source": [
    "text = '''я возможно тебя ненавижу (почти), но все равно ты хороший'''\n",
    "model(text)"
   ]
  },
  {
   "cell_type": "code",
   "execution_count": 20,
   "metadata": {},
   "outputs": [
    {
     "data": {
      "text/plain": [
       "{'class': 'neutral', 'probabilities': tensor([[0.8931, 0.0916, 0.0153]])}"
      ]
     },
     "execution_count": 20,
     "metadata": {},
     "output_type": "execute_result"
    }
   ],
   "source": [
    "text = '''Путин победил на выборах президента'''\n",
    "model(text)"
   ]
  },
  {
   "cell_type": "code",
   "execution_count": 21,
   "metadata": {},
   "outputs": [
    {
     "data": {
      "text/plain": [
       "{'class': 'positive', 'probabilities': tensor([[0.0467, 0.9508, 0.0025]])}"
      ]
     },
     "execution_count": 21,
     "metadata": {},
     "output_type": "execute_result"
    }
   ],
   "source": [
    "text = '''Ура! Путин победил на выборах президента'''\n",
    "model(text)"
   ]
  }
 ],
 "metadata": {
  "kernelspec": {
   "display_name": "Python 3",
   "language": "python",
   "name": "python3"
  },
  "language_info": {
   "codemirror_mode": {
    "name": "ipython",
    "version": 3
   },
   "file_extension": ".py",
   "mimetype": "text/x-python",
   "name": "python",
   "nbconvert_exporter": "python",
   "pygments_lexer": "ipython3",
   "version": "3.10.12"
  }
 },
 "nbformat": 4,
 "nbformat_minor": 2
}
